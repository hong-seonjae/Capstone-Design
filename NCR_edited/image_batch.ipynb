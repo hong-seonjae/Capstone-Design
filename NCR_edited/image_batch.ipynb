{
 "cells": [
  {
   "cell_type": "code",
   "execution_count": 1,
   "id": "a9d58c30",
   "metadata": {},
   "outputs": [
    {
     "name": "stderr",
     "output_type": "stream",
     "text": [
      "/home/capstone_nc/anaconda3/envs/capstone/lib/python3.7/site-packages/tqdm/auto.py:22: TqdmWarning: IProgress not found. Please update jupyter and ipywidgets. See https://ipywidgets.readthedocs.io/en/stable/user_install.html\n",
      "  from .autonotebook import tqdm as notebook_tqdm\n"
     ]
    }
   ],
   "source": [
    "import torch\n",
    "import numpy as np\n",
    "from tqdm import tqdm\n",
    "import os\n",
    "from sklearn.metrics.pairwise import cosine_similarity\n",
    "from model import SGRAF\n",
    "from data import get_dataset, get_loader\n",
    "from vocab import deserialize_vocab\n",
    "import argparse\n",
    "import json"
   ]
  },
  {
   "cell_type": "code",
   "execution_count": null,
   "id": "8a079e40",
   "metadata": {},
   "outputs": [],
   "source": [
    "def extract_image_embeddings(model_path, opt, save_path):\n",
    "    print(f\"Loading model from {model_path}\")\n",
    "    checkpoint = torch.load(model_path)\n",
    "\n",
    "    # Load and patch opt if vocab_size is missing\n",
    "    vocab = deserialize_vocab(os.path.join(opt.vocab_path, f\"{opt.data_name}_vocab.json\"))\n",
    "    opt.vocab_size = len(vocab)\n",
    "\n",
    "    # Rebuild model and load weights\n",
    "    model = SGRAF(opt)\n",
    "    model.load_state_dict(checkpoint[\"model_A\"])  # or \"model_B\"\n",
    "    model.val_start()\n",
    "\n",
    "    # Load dataset and dataloader\n",
    "    loader, _, _ = get_loader(\n",
    "        captions, images, \"warmup\",\n",
    "        opt.batch_size, opt.workers,\n",
    "        opt.noise_ratio, opt.noise_file\n",
    "    )\n",
    "\n",
    "    all_img_embs = []\n",
    "\n",
    "    with torch.no_grad():\n",
    "        for batch in tqdm(loader, desc=\"Extracting image embeddings\"):\n",
    "            images = batch[0].cuda()  # batch = (images, captions, ...)\n",
    "            img_embs = model.img_enc(images)  # (B, 36, 1024)\n",
    "            all_img_embs.append(img_embs.cpu().numpy())\n",
    "\n",
    "    # Save as npy\n",
    "    img_embs = np.concatenate(all_img_embs, axis=0)\n",
    "    np.save(save_path, img_embs)\n",
    "    print(f\"Saved image embeddings to {save_path}\")\n",
    "    \n",
    "    return img_embs"
   ]
  },
  {
   "cell_type": "code",
   "execution_count": 3,
   "id": "7e4d6524",
   "metadata": {},
   "outputs": [],
   "source": [
    "def build_batches_from_embeddings(img_embs, batch_size=128):\n",
    "    \"\"\"Stage 2 Step 2: Build batches based on image similarity.\"\"\"\n",
    "    n = len(img_embs)\n",
    "    sim_matrix = cosine_similarity(img_embs)\n",
    "    used = np.zeros(n, dtype=bool)\n",
    "    batches = []\n",
    "\n",
    "    anchor_idx = np.random.choice(np.where(~used)[0])\n",
    "    while not used.all():\n",
    "        sim = sim_matrix[anchor_idx]\n",
    "        sim[used] = -np.inf  # mask already used\n",
    "        topk = np.argsort(sim)[-batch_size:]\n",
    "\n",
    "        batches.append(topk)\n",
    "        used[topk] = True\n",
    "\n",
    "        # 다음 anchor는 현재 anchor와 가장 유사도가 낮은 것 중 미사용으로 선택\n",
    "        remaining = np.where(~used)[0]\n",
    "        if len(remaining) == 0:\n",
    "            break\n",
    "        anchor_idx = remaining[np.argmin(sim_matrix[anchor_idx][remaining])]\n",
    "\n",
    "    print(f\"Built {len(batches)} batches of size {batch_size}\")\n",
    "    return batches"
   ]
  },
  {
   "cell_type": "code",
   "execution_count": 4,
   "id": "9f90384c",
   "metadata": {},
   "outputs": [],
   "source": [
    "def detect_noisy_pairs(model_path, opt, batch_indices, captions):\n",
    "    \"\"\"Stage 2 Step 3: Detect noisy image-caption pairs within each batch.\"\"\"\n",
    "    checkpoint = torch.load(model_path)\n",
    "    model = SGRAF(opt)\n",
    "    model.load_state_dict(checkpoint[\"model_A\"])\n",
    "    model.val_start()\n",
    "\n",
    "    model.txt_enc.eval()\n",
    "    vocab = deserialize_vocab(os.path.join(opt.vocab_path, f\"{opt.data_name}_vocab.json\"))\n",
    "\n",
    "    noisy_indices = []\n",
    "    for batch in tqdm(batch_indices, desc=\"Detecting noisy pairs\"):\n",
    "        batch_caps = [captions[i] for i in batch]\n",
    "        lengths = [len(c) for c in batch_caps]\n",
    "        cap_tensor = torch.zeros(len(batch_caps), max(lengths)).long()\n",
    "        for i, cap in enumerate(batch_caps):\n",
    "            cap_tensor[i, :lengths[i]] = torch.tensor(cap[:lengths[i]])\n",
    "        cap_tensor = cap_tensor.cuda()\n",
    "\n",
    "        with torch.no_grad():\n",
    "            cap_emb = model.txt_enc(cap_tensor, lengths)  # (B, L, D)\n",
    "\n",
    "        cap_avg = cap_emb.mean(dim=1)\n",
    "        sim = cosine_similarity(cap_avg.cpu().numpy())\n",
    "\n",
    "        # 중앙값 기준보다 작은 평균 유사도를 가진 것들을 noisy로 간주\n",
    "        avg_sim = sim.mean(axis=1)\n",
    "        threshold = np.median(avg_sim)\n",
    "        noisy = np.where(avg_sim < threshold)[0]\n",
    "        noisy_indices.append([batch[i] for i in noisy])\n",
    "\n",
    "    return noisy_indices"
   ]
  },
  {
   "cell_type": "code",
   "execution_count": 5,
   "id": "b325e240",
   "metadata": {},
   "outputs": [],
   "source": [
    "with open('./output/2025_04_07_15_16_52/config.json', 'r') as f:\n",
    "    config = json.load(f)\n",
    "\n",
    "opt = argparse.Namespace(**config)"
   ]
  },
  {
   "cell_type": "code",
   "execution_count": 6,
   "id": "bf844733",
   "metadata": {},
   "outputs": [
    {
     "name": "stdout",
     "output_type": "stream",
     "text": [
      "Loading model from ./output/2025_04_07_15_16_52/model_best.pth.tar\n",
      "load /home/capstone_nc/NCR-data/data/f30k_precomp / train data: 29000 images, 145000 captions\n",
      "=> load noisy index from output/2025_04_07_15_16_52/f30k_precomp_0.2.npy\n",
      "train  data has a size of 145000\n"
     ]
    },
    {
     "name": "stderr",
     "output_type": "stream",
     "text": [
      "Extracting image embeddings: 100%|██████████| 1133/1133 [00:47<00:00, 23.81it/s]\n"
     ]
    },
    {
     "name": "stdout",
     "output_type": "stream",
     "text": [
      "Saved image embeddings to ./train_img_embs.npy\n"
     ]
    }
   ],
   "source": [
    "model_path = \"./output/2025_04_07_15_16_52/model_best.pth.tar\"\n",
    "img_emb_save_path = \"./train_img_embs.npy\"\n",
    "\n",
    "img_embs = extract_image_embeddings(model_path, opt, img_emb_save_path)"
   ]
  },
  {
   "cell_type": "code",
   "execution_count": null,
   "id": "50052ff5",
   "metadata": {},
   "outputs": [
    {
     "data": {
      "text/plain": [
       "(36, 1024)"
      ]
     },
     "execution_count": 9,
     "metadata": {},
     "output_type": "execute_result"
    }
   ],
   "source": [
    "img_embs[0].shape"
   ]
  },
  {
   "cell_type": "code",
   "execution_count": null,
   "id": "9c422dc4",
   "metadata": {},
   "outputs": [],
   "source": [
    "batches_first = build_batches_from_embeddings(img_embs, batch_size=128)"
   ]
  }
 ],
 "metadata": {
  "kernelspec": {
   "display_name": "capstone",
   "language": "python",
   "name": "python3"
  },
  "language_info": {
   "codemirror_mode": {
    "name": "ipython",
    "version": 3
   },
   "file_extension": ".py",
   "mimetype": "text/x-python",
   "name": "python",
   "nbconvert_exporter": "python",
   "pygments_lexer": "ipython3",
   "version": "3.7.12"
  }
 },
 "nbformat": 4,
 "nbformat_minor": 5
}
